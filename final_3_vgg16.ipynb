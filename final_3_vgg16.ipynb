{
  "nbformat": 4,
  "nbformat_minor": 0,
  "metadata": {
    "colab": {
      "name": "final_3_vgg16.ipynb",
      "provenance": [],
      "collapsed_sections": []
    },
    "kernelspec": {
      "name": "python3",
      "display_name": "Python 3"
    },
    "language_info": {
      "name": "python"
    },
    "accelerator": "GPU"
  },
  "cells": [
    {
      "cell_type": "code",
      "metadata": {
        "id": "EeL9fiBIlaUd"
      },
      "source": [
        "from tensorflow.keras.applications.vgg16 import VGG16\n",
        "from tensorflow.keras import  layers,Model\n",
        "from keras.preprocessing.image import ImageDataGenerator\n",
        "from keras.layers.core import  Dropout\n",
        "\n"
      ],
      "execution_count": 15,
      "outputs": []
    },
    {
      "cell_type": "code",
      "metadata": {
        "colab": {
          "base_uri": "https://localhost:8080/"
        },
        "id": "4XsmuLRHlHx8",
        "outputId": "17e6d4d8-81c2-49d4-f5b3-b92cb859dcd1"
      },
      "source": [
        "from google.colab import drive\n",
        "drive.mount(\"/content/drive\")"
      ],
      "execution_count": 2,
      "outputs": [
        {
          "output_type": "stream",
          "text": [
            "Mounted at /content/drive\n"
          ],
          "name": "stdout"
        }
      ]
    },
    {
      "cell_type": "code",
      "metadata": {
        "id": "6q7yaGgJ5aJ7",
        "colab": {
          "base_uri": "https://localhost:8080/"
        },
        "outputId": "30bce57b-b2df-4340-8619-e69944d19e09"
      },
      "source": [
        "trainPath=\"/content/drive/MyDrive/Deep Learning/chest_xray_dataset/train\"\n",
        "testPath=\"/content/drive/MyDrive/Deep Learning/chest_xray_dataset/test\"\n",
        "\n",
        "\n",
        "train_datagen=ImageDataGenerator(\n",
        "    rescale=1./255,\n",
        "    rotation_range=20,         \n",
        "    zoom_range=0.5,\n",
        "    horizontal_flip=True,\n",
        "    validation_split=0.1\n",
        ")\n",
        "val_datagen=ImageDataGenerator(rescale=1./255, validation_split=0.1) \n",
        "test_datagen=ImageDataGenerator(rescale=1./255)\n",
        "\n",
        "\n",
        "trainDataGen=ImageDataGenerator(\n",
        "    rescale=1./224,\n",
        "    validation_split=0.1\n",
        ")\n",
        "\n",
        "testDataGen=ImageDataGenerator(rescale=1./224)\n",
        "\n",
        "trainGen=trainDataGen.flow_from_directory(\n",
        "    trainPath,\n",
        "    target_size=(224,224),\n",
        "    color_mode='rgb',\n",
        "    class_mode='categorical',\n",
        "    batch_size=16,\n",
        "    subset='training'\n",
        ")\n",
        "\n",
        "valGen=trainDataGen.flow_from_directory(\n",
        "    trainPath,\n",
        "    target_size=(224,224),\n",
        "    color_mode='rgb',\n",
        "    class_mode='categorical',\n",
        "    batch_size=16,\n",
        "    subset='validation')\n",
        "\n",
        "testGen=testDataGen.flow_from_directory(\n",
        "    testPath,\n",
        "    target_size=(224,224),\n",
        "    color_mode='rgb',\n",
        "    class_mode='categorical',\n",
        "    batch_size=1)"
      ],
      "execution_count": 4,
      "outputs": [
        {
          "output_type": "stream",
          "text": [
            "Found 4711 images belonging to 3 classes.\n",
            "Found 521 images belonging to 3 classes.\n",
            "Found 624 images belonging to 3 classes.\n"
          ],
          "name": "stdout"
        }
      ]
    },
    {
      "cell_type": "code",
      "metadata": {
        "id": "X3vaejRlbPiY",
        "colab": {
          "base_uri": "https://localhost:8080/"
        },
        "outputId": "54549d11-defe-4491-fe4c-d1553ecf956a"
      },
      "source": [
        "#train klasörü\n",
        "print(trainGen.class_indices)\n",
        "print(\"\")\n",
        "normal,bacteria,virus=(0,0,0)\n",
        "for i in trainGen.classes:\n",
        "  if i ==0:\n",
        "    normal+=1\n",
        "  if i ==1:\n",
        "    bacteria+=1\n",
        "  if i == 2:\n",
        "    virus+=1\n",
        "print(\"trainGen:\",\"normal:\",normal,\" bacteria:\",bacteria,\" virus:\",virus,\"toplam:\",normal+bacteria+virus)\n",
        "\n",
        "#test klasörü\n",
        "normal,bacteria,virus=(0,0,0)\n",
        "for i in testGen.classes:\n",
        "  if i ==0:\n",
        "    normal+=1\n",
        "  if i ==1:\n",
        "    bacteria+=1\n",
        "  if i == 2:\n",
        "    virus+=1\n",
        "print(\" testGen:\",\"normal:\",normal,\"  bacteria:\",bacteria,\"  virus:\",virus,\" toplam:\",normal+bacteria+virus)\n",
        "\n",
        "#val klasörü\n",
        "normal,bacteria,virus=(0,0,0)\n",
        "for i in valGen.classes:\n",
        "  if i ==0:\n",
        "    normal+=1\n",
        "  if i ==1:\n",
        "    bacteria+=1\n",
        "  if i == 2:\n",
        "    virus+=1\n",
        "print(\"  valGen:\",\"normal:\",normal,\"  bacteria:\",bacteria,\"  virus:\",virus,\" toplam:\",normal+bacteria+virus)"
      ],
      "execution_count": 5,
      "outputs": [
        {
          "output_type": "stream",
          "text": [
            "{'NORMAL': 0, 'PNEUMONIA_BACTERIA': 1, 'PNEUMONIA_VIRUS': 2}\n",
            "\n",
            "trainGen: normal: 1215  bacteria: 2285  virus: 1211 toplam: 4711\n",
            " testGen: normal: 234   bacteria: 242   virus: 148  toplam: 624\n",
            "  valGen: normal: 134   bacteria: 253   virus: 134  toplam: 521\n"
          ],
          "name": "stdout"
        }
      ]
    },
    {
      "cell_type": "code",
      "metadata": {
        "colab": {
          "base_uri": "https://localhost:8080/"
        },
        "id": "MsjjcBhj50dM",
        "outputId": "fb727a0f-977c-4711-98a8-5ab5cec6852b"
      },
      "source": [
        "# Vgg16 Transfer learning\n",
        "\n",
        "base_model=VGG16(input_shape=(224,244,3),\n",
        "                 include_top=False,\n",
        "                 weights='imagenet',\n",
        "                 )\n",
        "base_model.trainable=False\n",
        "\n",
        "for layer in base_model.layers[4:]:\n",
        "  layer.trainable=True\n",
        "\n",
        "x=layers.Flatten()(base_model.output)\n",
        "x=layers.Dense(512,activation='relu')(x)\n",
        "x=layers.Dropout(0.5)(x)\n",
        "x=layers.Dense(256,activation='relu')(x)\n",
        "x=layers.Dropout(0.3)(x)\n",
        "\n",
        "out=layers.Dense(3,activation='softmax')(x)\n",
        "\n",
        "\n",
        "model=Model(inputs=base_model.inputs,outputs=out)\n",
        "\n",
        "model.summary()\n",
        "\n",
        "for layer in model.layers:\n",
        "  print(layer.name,\" \",layer.trainable)\n",
        "\n",
        "\n",
        "\n",
        "model.compile(loss=\"categorical_crossentropy\",optimizer=\"sgd\", metrics=[\"accuracy\"])\n"
      ],
      "execution_count": 29,
      "outputs": [
        {
          "output_type": "stream",
          "text": [
            "Model: \"model_10\"\n",
            "_________________________________________________________________\n",
            "Layer (type)                 Output Shape              Param #   \n",
            "=================================================================\n",
            "input_13 (InputLayer)        [(None, 224, 244, 3)]     0         \n",
            "_________________________________________________________________\n",
            "block1_conv1 (Conv2D)        (None, 224, 244, 64)      1792      \n",
            "_________________________________________________________________\n",
            "block1_conv2 (Conv2D)        (None, 224, 244, 64)      36928     \n",
            "_________________________________________________________________\n",
            "block1_pool (MaxPooling2D)   (None, 112, 122, 64)      0         \n",
            "_________________________________________________________________\n",
            "block2_conv1 (Conv2D)        (None, 112, 122, 128)     73856     \n",
            "_________________________________________________________________\n",
            "block2_conv2 (Conv2D)        (None, 112, 122, 128)     147584    \n",
            "_________________________________________________________________\n",
            "block2_pool (MaxPooling2D)   (None, 56, 61, 128)       0         \n",
            "_________________________________________________________________\n",
            "block3_conv1 (Conv2D)        (None, 56, 61, 256)       295168    \n",
            "_________________________________________________________________\n",
            "block3_conv2 (Conv2D)        (None, 56, 61, 256)       590080    \n",
            "_________________________________________________________________\n",
            "block3_conv3 (Conv2D)        (None, 56, 61, 256)       590080    \n",
            "_________________________________________________________________\n",
            "block3_pool (MaxPooling2D)   (None, 28, 30, 256)       0         \n",
            "_________________________________________________________________\n",
            "block4_conv1 (Conv2D)        (None, 28, 30, 512)       1180160   \n",
            "_________________________________________________________________\n",
            "block4_conv2 (Conv2D)        (None, 28, 30, 512)       2359808   \n",
            "_________________________________________________________________\n",
            "block4_conv3 (Conv2D)        (None, 28, 30, 512)       2359808   \n",
            "_________________________________________________________________\n",
            "block4_pool (MaxPooling2D)   (None, 14, 15, 512)       0         \n",
            "_________________________________________________________________\n",
            "block5_conv1 (Conv2D)        (None, 14, 15, 512)       2359808   \n",
            "_________________________________________________________________\n",
            "block5_conv2 (Conv2D)        (None, 14, 15, 512)       2359808   \n",
            "_________________________________________________________________\n",
            "block5_conv3 (Conv2D)        (None, 14, 15, 512)       2359808   \n",
            "_________________________________________________________________\n",
            "block5_pool (MaxPooling2D)   (None, 7, 7, 512)         0         \n",
            "_________________________________________________________________\n",
            "flatten_12 (Flatten)         (None, 25088)             0         \n",
            "_________________________________________________________________\n",
            "dense_33 (Dense)             (None, 512)               12845568  \n",
            "_________________________________________________________________\n",
            "dropout_15 (Dropout)         (None, 512)               0         \n",
            "_________________________________________________________________\n",
            "dense_34 (Dense)             (None, 256)               131328    \n",
            "_________________________________________________________________\n",
            "dropout_16 (Dropout)         (None, 256)               0         \n",
            "_________________________________________________________________\n",
            "dense_35 (Dense)             (None, 3)                 771       \n",
            "=================================================================\n",
            "Total params: 27,692,355\n",
            "Trainable params: 27,653,635\n",
            "Non-trainable params: 38,720\n",
            "_________________________________________________________________\n",
            "input_13   False\n",
            "block1_conv1   False\n",
            "block1_conv2   False\n",
            "block1_pool   False\n",
            "block2_conv1   True\n",
            "block2_conv2   True\n",
            "block2_pool   True\n",
            "block3_conv1   True\n",
            "block3_conv2   True\n",
            "block3_conv3   True\n",
            "block3_pool   True\n",
            "block4_conv1   True\n",
            "block4_conv2   True\n",
            "block4_conv3   True\n",
            "block4_pool   True\n",
            "block5_conv1   True\n",
            "block5_conv2   True\n",
            "block5_conv3   True\n",
            "block5_pool   True\n",
            "flatten_12   True\n",
            "dense_33   True\n",
            "dropout_15   True\n",
            "dense_34   True\n",
            "dropout_16   True\n",
            "dense_35   True\n"
          ],
          "name": "stdout"
        }
      ]
    },
    {
      "cell_type": "code",
      "metadata": {
        "colab": {
          "base_uri": "https://localhost:8080/"
        },
        "id": "0-T3zMNQmCuy",
        "outputId": "849afe84-49d7-412b-d7cf-db9db20163ba"
      },
      "source": [
        "history=model.fit(\n",
        "    trainGen,\n",
        "    steps_per_epoch=trainGen.samples//16,\n",
        "    validation_data=valGen,\n",
        "    epochs=10,\n",
        "    validation_steps=valGen.samples//16\n",
        ")"
      ],
      "execution_count": 30,
      "outputs": [
        {
          "output_type": "stream",
          "text": [
            "Epoch 1/10\n",
            "294/294 [==============================] - 74s 250ms/step - loss: 1.0003 - accuracy: 0.5159 - val_loss: 0.7336 - val_accuracy: 0.6270\n",
            "Epoch 2/10\n",
            "294/294 [==============================] - 73s 247ms/step - loss: 0.6801 - accuracy: 0.6758 - val_loss: 0.4896 - val_accuracy: 0.7578\n",
            "Epoch 3/10\n",
            "294/294 [==============================] - 73s 248ms/step - loss: 0.5354 - accuracy: 0.7476 - val_loss: 0.4087 - val_accuracy: 0.8555\n",
            "Epoch 4/10\n",
            "294/294 [==============================] - 73s 247ms/step - loss: 0.4776 - accuracy: 0.7857 - val_loss: 0.4384 - val_accuracy: 0.8516\n",
            "Epoch 5/10\n",
            "294/294 [==============================] - 73s 246ms/step - loss: 0.4410 - accuracy: 0.7940 - val_loss: 0.3911 - val_accuracy: 0.8574\n",
            "Epoch 6/10\n",
            "294/294 [==============================] - 72s 246ms/step - loss: 0.4305 - accuracy: 0.8023 - val_loss: 0.3875 - val_accuracy: 0.8789\n",
            "Epoch 7/10\n",
            "294/294 [==============================] - 73s 247ms/step - loss: 0.4086 - accuracy: 0.8143 - val_loss: 0.3291 - val_accuracy: 0.8750\n",
            "Epoch 8/10\n",
            "294/294 [==============================] - 73s 248ms/step - loss: 0.3816 - accuracy: 0.8256 - val_loss: 0.3300 - val_accuracy: 0.8828\n",
            "Epoch 9/10\n",
            "294/294 [==============================] - 73s 247ms/step - loss: 0.3541 - accuracy: 0.8428 - val_loss: 0.3586 - val_accuracy: 0.8828\n",
            "Epoch 10/10\n",
            "294/294 [==============================] - 73s 247ms/step - loss: 0.3297 - accuracy: 0.8588 - val_loss: 0.3745 - val_accuracy: 0.8789\n"
          ],
          "name": "stdout"
        }
      ]
    },
    {
      "cell_type": "code",
      "metadata": {
        "id": "Ez7Zh_QO5r4c",
        "colab": {
          "base_uri": "https://localhost:8080/",
          "height": 822
        },
        "outputId": "c8ded7ff-1a17-4c1e-e348-cf6b1e3024d2"
      },
      "source": [
        "import matplotlib.pyplot as plt\n",
        "\n",
        "#Plot the Loss Curves\n",
        "plt.figure(figsize=[8,6])\n",
        "plt.plot(history.history['loss'],'r',linewidth=3.0)\n",
        "plt.plot(history.history['val_loss'],'b',linewidth=3.0)\n",
        "plt.legend(['Training loss', 'Validation Loss'],fontsize=18)\n",
        "plt.xlabel('Epochs ',fontsize=16)\n",
        "plt.ylabel('Loss',fontsize=16)\n",
        "plt.title('Loss Curves',fontsize=16)\n",
        "\n",
        "#Plot the Accuracy Curves\n",
        "plt.figure(figsize=[8,6])\n",
        "plt.plot(history.history['accuracy'],'r',linewidth=3.0)\n",
        "plt.plot(history.history['val_accuracy'],'b',linewidth=3.0)\n",
        "plt.legend(['Training Accuracy', 'Validation Accuracy'],fontsize=18)\n",
        "plt.xlabel('Epochs ',fontsize=16)\n",
        "plt.ylabel('Accuracy',fontsize=16)\n",
        "plt.title('Accuracy Curves',fontsize=16)"
      ],
      "execution_count": 31,
      "outputs": [
        {
          "output_type": "execute_result",
          "data": {
            "text/plain": [
              "Text(0.5, 1.0, 'Accuracy Curves')"
            ]
          },
          "metadata": {
            "tags": []
          },
          "execution_count": 31
        },
        {
          "output_type": "display_data",
          "data": {
            "image/png": "[encoded data removed]",
            "text/plain": [
              "<Figure size 576x432 with 1 Axes>"
            ]
          },
          "metadata": {
            "tags": [],
            "needs_background": "light"
          }
        },
        {
          "output_type": "display_data",
          "data": {
            "image/png": "[encoded data removed]",
            "text/plain": [
              "<Figure size 576x432 with 1 Axes>"
            ]
          },
          "metadata": {
            "tags": [],
            "needs_background": "light"
          }
        }
      ]
    },
    {
      "cell_type": "code",
      "metadata": {
        "id": "7nw1zXYacwLT",
        "colab": {
          "base_uri": "https://localhost:8080/"
        },
        "outputId": "21faf6db-703c-4ade-991e-5a7d17f82a0d"
      },
      "source": [
        "import numpy as np\n",
        "from sklearn.metrics import classification_report, confusion_matrix\n",
        "\n",
        "\n",
        "Y_pred = model.predict_generator(testGen, trainGen.samples // 1)\n",
        "y_pred = np.argmax(Y_pred, axis=1)\n",
        "print('Confusion Matrix')\n",
        "print(confusion_matrix(testGen.classes, y_pred))\n",
        "print('Classification Report')\n",
        "target_names = ['Normal', 'Bacteria', 'Virus']\n",
        "print(classification_report(testGen.classes, y_pred, target_names=target_names))"
      ],
      "execution_count": 35,
      "outputs": [
        {
          "output_type": "stream",
          "text": [
            "/usr/local/lib/python3.7/dist-packages/tensorflow/python/keras/engine/training.py:2001: UserWarning: `Model.predict_generator` is deprecated and will be removed in a future version. Please use `Model.predict`, which supports generators.\n",
            "  warnings.warn('`Model.predict_generator` is deprecated and '\n"
          ],
          "name": "stderr"
        },
        {
          "output_type": "stream",
          "text": [
            "WARNING:tensorflow:Your input ran out of data; interrupting training. Make sure that your dataset or generator can generate at least `steps_per_epoch * epochs` batches (in this case, 4711 batches). You may need to use the repeat() function when building your dataset.\n",
            "Confusion Matrix\n",
            "[[ 55 119  60]\n",
            " [ 49 125  68]\n",
            " [ 26  95  27]]\n",
            "Classification Report\n",
            "              precision    recall  f1-score   support\n",
            "\n",
            "      Normal       0.42      0.24      0.30       234\n",
            "    Bacteria       0.37      0.52      0.43       242\n",
            "       Virus       0.17      0.18      0.18       148\n",
            "\n",
            "    accuracy                           0.33       624\n",
            "   macro avg       0.32      0.31      0.30       624\n",
            "weighted avg       0.34      0.33      0.32       624\n",
            "\n"
          ],
          "name": "stdout"
        }
      ]
    }
  ]
}
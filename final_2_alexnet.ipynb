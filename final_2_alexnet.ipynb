{
  "nbformat": 4,
  "nbformat_minor": 0,
  "metadata": {
    "colab": {
      "name": "final_2_alexnet.ipynb",
      "provenance": [],
      "collapsed_sections": [],
      "authorship_tag": "ABX9TyPePIjLwN6RAN3BBFu7BGwA",
      "include_colab_link": true
    },
    "kernelspec": {
      "name": "python3",
      "display_name": "Python 3"
    },
    "language_info": {
      "name": "python"
    },
    "accelerator": "GPU"
  },
  "cells": [
    {
      "cell_type": "markdown",
      "metadata": {
        "id": "view-in-github",
        "colab_type": "text"
      },
      "source": [
        "<a href=\"https://colab.research.google.com/github/hky4wzy71/python_keras_deep_learning_CNN/blob/main/final_2_alexnet.ipynb\" target=\"_parent\"><img src=\"https://colab.research.google.com/assets/colab-badge.svg\" alt=\"Open In Colab\"/></a>"
      ]
    },
    {
      "cell_type": "code",
      "metadata": {
        "id": "EB1W6dpdOKe8"
      },
      "source": [
        "import numpy as np\n",
        "import os\n",
        "import random\n",
        "import matplotlib.pyplot as plt\n",
        "\n",
        "\n",
        "from keras.models import Sequential\n",
        "from keras.layers.core import Dense, Flatten, Dropout\n",
        "from keras.layers import Conv2D,MaxPooling2D, ZeroPadding2D\n",
        "from keras.preprocessing.image import ImageDataGenerator\n",
        "\n",
        "from keras.utils import np_utils\n"
      ],
      "execution_count": null,
      "outputs": []
    },
    {
      "cell_type": "code",
      "metadata": {
        "colab": {
          "base_uri": "https://localhost:8080/"
        },
        "id": "wEY_gwpvPLZC",
        "outputId": "8ebd0ee4-b5df-4d16-fed8-d7446d78ff95"
      },
      "source": [
        "from google.colab import drive\n",
        "drive.mount(\"/content/drive\")"
      ],
      "execution_count": null,
      "outputs": [
        {
          "output_type": "stream",
          "text": [
            "Drive already mounted at /content/drive; to attempt to forcibly remount, call drive.mount(\"/content/drive\", force_remount=True).\n"
          ],
          "name": "stdout"
        }
      ]
    },
    {
      "cell_type": "code",
      "metadata": {
        "collapsed": true,
        "id": "C61DzJCjWlVr",
        "colab": {
          "base_uri": "https://localhost:8080/"
        },
        "outputId": "16da23c4-9029-4b21-f335-3d8e61219767"
      },
      "source": [
        "trainPath=\"/content/drive/MyDrive/Deep Learning/chest_xray_dataset/train\"\n",
        "testPath=\"/content/drive/MyDrive/Deep Learning/chest_xray_dataset/test\"\n",
        "\n",
        "\n",
        "trainDataGen=ImageDataGenerator(\n",
        "    rescale=1./255,\n",
        "    validation_split=0.1\n",
        ")\n",
        "\n",
        "testDataGen=ImageDataGenerator(rescale=1./255)\n",
        "print(testDataGen)\n",
        "trainGen=trainDataGen.flow_from_directory(\n",
        "    trainPath,\n",
        "    target_size=(227,227),\n",
        "    color_mode='rgb',\n",
        "    class_mode='categorical',\n",
        "    batch_size=16,\n",
        "    subset='training'\n",
        ")\n",
        "\n",
        "valGen=trainDataGen.flow_from_directory(\n",
        "    trainPath,\n",
        "    target_size=(227,227),\n",
        "    color_mode='rgb',\n",
        "    class_mode='categorical',\n",
        "    batch_size=16,\n",
        "    subset='validation')\n",
        "\n",
        "testGen=testDataGen.flow_from_directory(\n",
        "    testPath,\n",
        "    target_size=(227,227),\n",
        "    color_mode='rgb',\n",
        "    class_mode='categorical',\n",
        "    batch_size=1)"
      ],
      "execution_count": null,
      "outputs": [
        {
          "output_type": "stream",
          "text": [
            "<keras.preprocessing.image.ImageDataGenerator object at 0x7f3643cdf190>\n",
            "Found 4711 images belonging to 3 classes.\n",
            "Found 521 images belonging to 3 classes.\n",
            "Found 624 images belonging to 3 classes.\n"
          ],
          "name": "stdout"
        }
      ]
    },
    {
      "cell_type": "code",
      "metadata": {
        "colab": {
          "base_uri": "https://localhost:8080/"
        },
        "id": "njTA25oKTk5D",
        "outputId": "07b1f3a5-89c0-4490-e59a-1c5d3b40d0df"
      },
      "source": [
        "#train klasörü\n",
        "print(trainGen.class_indices)\n",
        "normal,bacteria,virus=(0,0,0)\n",
        "for i in trainGen.classes:\n",
        "  if i ==0:\n",
        "    normal+=1\n",
        "  if i ==1:\n",
        "    bacteria+=1\n",
        "  if i == 2:\n",
        "    virus+=1\n",
        "print(\"trainGen.classes:\",\"normal:\",normal,\" bacteria:\",bacteria,\" virus:\",virus,\"toplam:\",normal+bacteria+virus)\n",
        "\n",
        "#test klasörü\n",
        "normal,bacteria,virus=(0,0,0)\n",
        "for i in testGen.classes:\n",
        "  if i ==0:\n",
        "    normal+=1\n",
        "  if i ==1:\n",
        "    bacteria+=1\n",
        "  if i == 2:\n",
        "    virus+=1\n",
        "print(\"testGen.classes:\",\"normal:\",normal,\" bacteria:\",bacteria,\" virus:\",virus,\"toplam:\",normal+bacteria+virus)\n",
        "\n",
        "#val klasörü\n",
        "normal,bacteria,virus=(0,0,0)\n",
        "for i in valGen.classes:\n",
        "  if i ==0:\n",
        "    normal+=1\n",
        "  if i ==1:\n",
        "    bacteria+=1\n",
        "  if i == 2:\n",
        "    virus+=1\n",
        "print(\"valGen.classes:\",\"normal:\",normal,\" bacteria:\",bacteria,\" virus:\",virus,\"toplam:\",normal+bacteria+virus)\n",
        "\n"
      ],
      "execution_count": null,
      "outputs": [
        {
          "output_type": "stream",
          "text": [
            "{'NORMAL': 0, 'PNEUMONIA_BACTERIA': 1, 'PNEUMONIA_VIRUS': 2}\n",
            "trainGen.classes: normal: 1215  bacteria: 2285  virus: 1211 toplam: 4711\n",
            "testGen.classes: normal: 234  bacteria: 242  virus: 148 toplam: 624\n",
            "valGen.classes: normal: 134  bacteria: 253  virus: 134 toplam: 521\n"
          ],
          "name": "stdout"
        }
      ]
    },
    {
      "cell_type": "code",
      "metadata": {
        "colab": {
          "base_uri": "https://localhost:8080/"
        },
        "id": "guhIXtjiU_rX",
        "outputId": "707d821f-7666-45df-a42c-a7aadc09a335"
      },
      "source": [
        "alexnet=Sequential()\n",
        "alexnet.add(Conv2D(96,kernel_size=(11,11),strides=(4,4),activation='relu',input_shape=(227,227,3)))\n",
        "alexnet.add(MaxPooling2D(pool_size=(3,3),strides=(2,2)))\n",
        "alexnet.add(ZeroPadding2D((2,2)))\n",
        "alexnet.add(Conv2D(256,kernel_size=(5,5),activation='relu',strides=(1,1)))\n",
        "alexnet.add(MaxPooling2D(pool_size=(3,3),strides=(2,2)))\n",
        "alexnet.add(ZeroPadding2D((1,1)))\n",
        "alexnet.add(Conv2D(384,kernel_size=(3,3),activation='relu',strides=(1,1)))\n",
        "alexnet.add(ZeroPadding2D((1,1)))\n",
        "alexnet.add(Conv2D(384,kernel_size=(3,3),activation='relu',strides=(1,1)))\n",
        "alexnet.add(ZeroPadding2D((1,1)))\n",
        "alexnet.add(Conv2D(256,kernel_size=(3,3),activation='relu',strides=(1,1)))\n",
        "alexnet.add(MaxPooling2D(pool_size=(3,3),strides=(2,2)))\n",
        "alexnet.add(Flatten())\n",
        "alexnet.add(Dense(4096,activation='relu'))\n",
        "alexnet.add(Dropout(0.3))\n",
        "alexnet.add(Dense(4096,activation='relu'))\n",
        "alexnet.add(Dropout(0.3))\n",
        "alexnet.add(Dense(3,activation='softmax'))\n",
        "alexnet.summary()\n",
        "\n",
        "alexnet.compile(loss=\"categorical_crossentropy\",optimizer=\"sgd\", metrics=[\"accuracy\"])\n"
      ],
      "execution_count": null,
      "outputs": [
        {
          "output_type": "stream",
          "text": [
            "Model: \"sequential_1\"\n",
            "_________________________________________________________________\n",
            "Layer (type)                 Output Shape              Param #   \n",
            "=================================================================\n",
            "conv2d_5 (Conv2D)            (None, 55, 55, 96)        34944     \n",
            "_________________________________________________________________\n",
            "max_pooling2d_3 (MaxPooling2 (None, 27, 27, 96)        0         \n",
            "_________________________________________________________________\n",
            "zero_padding2d_4 (ZeroPaddin (None, 31, 31, 96)        0         \n",
            "_________________________________________________________________\n",
            "conv2d_6 (Conv2D)            (None, 27, 27, 256)       614656    \n",
            "_________________________________________________________________\n",
            "max_pooling2d_4 (MaxPooling2 (None, 13, 13, 256)       0         \n",
            "_________________________________________________________________\n",
            "zero_padding2d_5 (ZeroPaddin (None, 15, 15, 256)       0         \n",
            "_________________________________________________________________\n",
            "conv2d_7 (Conv2D)            (None, 13, 13, 384)       885120    \n",
            "_________________________________________________________________\n",
            "zero_padding2d_6 (ZeroPaddin (None, 15, 15, 384)       0         \n",
            "_________________________________________________________________\n",
            "conv2d_8 (Conv2D)            (None, 13, 13, 384)       1327488   \n",
            "_________________________________________________________________\n",
            "zero_padding2d_7 (ZeroPaddin (None, 15, 15, 384)       0         \n",
            "_________________________________________________________________\n",
            "conv2d_9 (Conv2D)            (None, 13, 13, 256)       884992    \n",
            "_________________________________________________________________\n",
            "max_pooling2d_5 (MaxPooling2 (None, 6, 6, 256)         0         \n",
            "_________________________________________________________________\n",
            "flatten_1 (Flatten)          (None, 9216)              0         \n",
            "_________________________________________________________________\n",
            "dense_3 (Dense)              (None, 4096)              37752832  \n",
            "_________________________________________________________________\n",
            "dropout_2 (Dropout)          (None, 4096)              0         \n",
            "_________________________________________________________________\n",
            "dense_4 (Dense)              (None, 4096)              16781312  \n",
            "_________________________________________________________________\n",
            "dropout_3 (Dropout)          (None, 4096)              0         \n",
            "_________________________________________________________________\n",
            "dense_5 (Dense)              (None, 3)                 12291     \n",
            "=================================================================\n",
            "Total params: 58,293,635\n",
            "Trainable params: 58,293,635\n",
            "Non-trainable params: 0\n",
            "_________________________________________________________________\n"
          ],
          "name": "stdout"
        }
      ]
    },
    {
      "cell_type": "code",
      "metadata": {
        "colab": {
          "base_uri": "https://localhost:8080/"
        },
        "id": "xGodU6pbVEwm",
        "outputId": "6c81aaf3-5dad-429f-9fbe-e072bb6fb031"
      },
      "source": [
        "history=alexnet.fit(\n",
        "    trainGen,\n",
        "    steps_per_epoch=trainGen.samples//16,\n",
        "    validation_data=valGen,\n",
        "    epochs=20,\n",
        "    validation_steps=valGen.samples//16\n",
        ")"
      ],
      "execution_count": null,
      "outputs": [
        {
          "output_type": "stream",
          "text": [
            "Epoch 1/20\n",
            "294/294 [==============================] - 1373s 5s/step - loss: 1.0601 - accuracy: 0.4685 - val_loss: 1.0607 - val_accuracy: 0.3418\n",
            "Epoch 2/20\n",
            "294/294 [==============================] - 61s 209ms/step - loss: 0.8880 - accuracy: 0.5915 - val_loss: 0.5721 - val_accuracy: 0.6973\n",
            "Epoch 3/20\n",
            "294/294 [==============================] - 62s 210ms/step - loss: 0.6555 - accuracy: 0.6905 - val_loss: 0.5228 - val_accuracy: 0.8086\n",
            "Epoch 4/20\n",
            "294/294 [==============================] - 61s 208ms/step - loss: 0.5872 - accuracy: 0.7230 - val_loss: 0.4671 - val_accuracy: 0.7949\n",
            "Epoch 5/20\n",
            "294/294 [==============================] - 61s 209ms/step - loss: 0.5368 - accuracy: 0.7507 - val_loss: 0.4353 - val_accuracy: 0.8359\n",
            "Epoch 6/20\n",
            "294/294 [==============================] - 61s 208ms/step - loss: 0.5306 - accuracy: 0.7472 - val_loss: 0.4872 - val_accuracy: 0.7793\n",
            "Epoch 7/20\n",
            "294/294 [==============================] - 60s 204ms/step - loss: 0.5029 - accuracy: 0.7627 - val_loss: 0.4331 - val_accuracy: 0.8340\n",
            "Epoch 8/20\n",
            "294/294 [==============================] - 60s 203ms/step - loss: 0.4794 - accuracy: 0.7827 - val_loss: 0.4533 - val_accuracy: 0.7832\n",
            "Epoch 9/20\n",
            "294/294 [==============================] - 60s 202ms/step - loss: 0.4970 - accuracy: 0.7770 - val_loss: 0.4054 - val_accuracy: 0.8516\n",
            "Epoch 10/20\n",
            "294/294 [==============================] - 59s 202ms/step - loss: 0.4724 - accuracy: 0.7832 - val_loss: 0.4027 - val_accuracy: 0.8262\n",
            "Epoch 11/20\n",
            "294/294 [==============================] - 60s 204ms/step - loss: 0.4667 - accuracy: 0.7855 - val_loss: 0.3964 - val_accuracy: 0.8242\n",
            "Epoch 12/20\n",
            "294/294 [==============================] - 60s 203ms/step - loss: 0.4525 - accuracy: 0.7919 - val_loss: 0.3921 - val_accuracy: 0.8516\n",
            "Epoch 13/20\n",
            "294/294 [==============================] - 59s 201ms/step - loss: 0.4456 - accuracy: 0.7970 - val_loss: 0.3815 - val_accuracy: 0.8320\n",
            "Epoch 14/20\n",
            "294/294 [==============================] - 59s 200ms/step - loss: 0.4387 - accuracy: 0.7982 - val_loss: 0.3802 - val_accuracy: 0.8398\n",
            "Epoch 15/20\n",
            "294/294 [==============================] - 59s 201ms/step - loss: 0.4382 - accuracy: 0.7933 - val_loss: 0.4270 - val_accuracy: 0.8242\n",
            "Epoch 16/20\n",
            "294/294 [==============================] - 58s 198ms/step - loss: 0.4290 - accuracy: 0.8069 - val_loss: 0.4035 - val_accuracy: 0.8242\n",
            "Epoch 17/20\n",
            "294/294 [==============================] - 58s 197ms/step - loss: 0.4341 - accuracy: 0.8024 - val_loss: 0.3476 - val_accuracy: 0.8652\n",
            "Epoch 18/20\n",
            "294/294 [==============================] - 59s 201ms/step - loss: 0.4105 - accuracy: 0.8162 - val_loss: 0.3998 - val_accuracy: 0.8438\n",
            "Epoch 19/20\n",
            "294/294 [==============================] - 58s 198ms/step - loss: 0.3976 - accuracy: 0.8187 - val_loss: 0.3655 - val_accuracy: 0.8496\n",
            "Epoch 20/20\n",
            "294/294 [==============================] - 58s 199ms/step - loss: 0.3959 - accuracy: 0.8163 - val_loss: 0.3662 - val_accuracy: 0.8496\n"
          ],
          "name": "stdout"
        }
      ]
    },
    {
      "cell_type": "markdown",
      "metadata": {
        "id": "3eNdvlTHFyu0"
      },
      "source": [
        ""
      ]
    },
    {
      "cell_type": "code",
      "metadata": {
        "colab": {
          "base_uri": "https://localhost:8080/",
          "height": 822
        },
        "id": "a5oSe02kG5a6",
        "outputId": "0aadcb51-9e94-4eb2-989d-7910c9f97565"
      },
      "source": [
        "#Plot the Loss Curves\n",
        "plt.figure(figsize=[8,6])\n",
        "plt.plot(history.history['loss'],'r',linewidth=3.0)\n",
        "plt.plot(history.history['val_loss'],'b',linewidth=3.0)\n",
        "plt.legend(['Training loss', 'Validation Loss'],fontsize=18)\n",
        "plt.xlabel('Epochs ',fontsize=16)\n",
        "plt.ylabel('Loss',fontsize=16)\n",
        "plt.title('Loss Curves',fontsize=16)\n",
        "\n",
        "#Plot the Accuracy Curves\n",
        "plt.figure(figsize=[8,6])\n",
        "plt.plot(history.history['accuracy'],'r',linewidth=3.0)\n",
        "plt.plot(history.history['val_accuracy'],'b',linewidth=3.0)\n",
        "plt.legend(['Training Accuracy', 'Validation Accuracy'],fontsize=18)\n",
        "plt.xlabel('Epochs ',fontsize=16)\n",
        "plt.ylabel('Accuracy',fontsize=16)\n",
        "plt.title('Accuracy Curves',fontsize=16)"
      ],
      "execution_count": null,
      "outputs": [
        {
          "output_type": "execute_result",
          "data": {
            "text/plain": [
              "Text(0.5, 1.0, 'Accuracy Curves')"
            ]
          },
          "metadata": {
            "tags": []
          },
          "execution_count": 13
        },
        {
          "output_type": "display_data",
          "data": {
            "image/png": "[encoded data removed]",
            "text/plain": [
              "<Figure size 576x432 with 1 Axes>"
            ]
          },
          "metadata": {
            "tags": [],
            "needs_background": "light"
          }
        },
        {
          "output_type": "display_data",
          "data": {
            "image/png": "[encoded data removed]",
            "text/plain": [
              "<Figure size 576x432 with 1 Axes>"
            ]
          },
          "metadata": {
            "tags": [],
            "needs_background": "light"
          }
        }
      ]
    },
    {
      "cell_type": "code",
      "metadata": {
        "colab": {
          "base_uri": "https://localhost:8080/"
        },
        "id": "sLw_YKJuNGU7",
        "outputId": "1dcb2d07-2ce3-47ac-f475-1d665cd3dfd2"
      },
      "source": [
        "from sklearn.metrics import classification_report, confusion_matrix\n",
        "validation_generator=valGen\n",
        "\n",
        "\n",
        "Y_pred = alexnet.predict_generator(validation_generator, trainGen.samples // 10+1)\n",
        "y_pred = np.argmax(Y_pred, axis=1)\n",
        "print('Confusion Matrix')\n",
        "print(confusion_matrix(validation_generator.classes, y_pred))\n",
        "print('Classification Report')\n",
        "target_names = ['Normal', 'Bacteria', 'Virus']\n",
        "print(classification_report(validation_generator.classes, y_pred, target_names=target_names))"
      ],
      "execution_count": null,
      "outputs": [
        {
          "output_type": "stream",
          "text": [
            "/usr/local/lib/python3.7/dist-packages/keras/engine/training.py:1976: UserWarning: `Model.predict_generator` is deprecated and will be removed in a future version. Please use `Model.predict`, which supports generators.\n",
            "  warnings.warn('`Model.predict_generator` is deprecated and '\n"
          ],
          "name": "stderr"
        },
        {
          "output_type": "stream",
          "text": [
            "WARNING:tensorflow:Your input ran out of data; interrupting training. Make sure that your dataset or generator can generate at least `steps_per_epoch * epochs` batches (in this case, 472 batches). You may need to use the repeat() function when building your dataset.\n",
            "Confusion Matrix\n",
            "[[ 37  64  33]\n",
            " [ 70 130  53]\n",
            " [ 39  65  30]]\n",
            "Classification Report\n",
            "              precision    recall  f1-score   support\n",
            "\n",
            "      Normal       0.25      0.28      0.26       134\n",
            "    Bacteria       0.50      0.51      0.51       253\n",
            "       Virus       0.26      0.22      0.24       134\n",
            "\n",
            "    accuracy                           0.38       521\n",
            "   macro avg       0.34      0.34      0.34       521\n",
            "weighted avg       0.38      0.38      0.38       521\n",
            "\n"
          ],
          "name": "stdout"
        }
      ]
    }
  ]
}
{
  "nbformat": 4,
  "nbformat_minor": 0,
  "metadata": {
    "accelerator": "GPU",
    "colab": {
      "name": "final_1_kendi_modelim.ipynb",
      "provenance": []
    },
    "kernelspec": {
      "display_name": "Python 3",
      "name": "python3"
    },
    "language_info": {
      "name": "python"
    }
  },
  "cells": [
    {
      "cell_type": "code",
      "metadata": {
        "id": "QeJYLn2NXQy_"
      },
      "source": [
        "import numpy as np\n",
        "import os\n",
        "import random\n",
        "import matplotlib.pyplot as plt\n",
        "\n",
        "\n",
        "from keras.models import Sequential\n",
        "from keras.layers.core import Dense, Flatten, Dropout\n",
        "from keras.layers import Conv2D,MaxPooling2D, ZeroPadding2D\n",
        "from keras.preprocessing.image import ImageDataGenerator\n",
        "\n",
        "from keras.utils import np_utils\n"
      ],
      "execution_count": null,
      "outputs": []
    },
    {
      "cell_type": "code",
      "metadata": {
        "colab": {
          "base_uri": "https://localhost:8080/"
        },
        "id": "iGAZQDJtXbVk",
        "outputId": "48bdfd74-16b3-4328-9693-086906273199"
      },
      "source": [
        "from google.colab import drive\n",
        "drive.mount(\"/content/drive\")"
      ],
      "execution_count": null,
      "outputs": [
        {
          "output_type": "stream",
          "text": [
            "Mounted at /content/drive\n"
          ],
          "name": "stdout"
        }
      ]
    },
    {
      "cell_type": "code",
      "metadata": {
        "colab": {
          "base_uri": "https://localhost:8080/"
        },
        "id": "DwhybEgsXfXl",
        "outputId": "9622f048-1a98-43a2-94c7-a5120691f5eb"
      },
      "source": [
        "trainPath=\"/content/drive/MyDrive/Deep Learning/chest_xray_dataset/train\"\n",
        "testPath=\"/content/drive/MyDrive/Deep Learning/chest_xray_dataset/test\"\n",
        "\n",
        "\n",
        "train_datagen=ImageDataGenerator(\n",
        "    rescale=1./255,\n",
        "    rotation_range=20,         \n",
        "    zoom_range=0.5,\n",
        "    horizontal_flip=True,\n",
        "    validation_split=0.1\n",
        ")\n",
        "val_datagen=ImageDataGenerator(rescale=1./255, validation_split=0.1) \n",
        "test_datagen=ImageDataGenerator(rescale=1./255)\n",
        "\n",
        "\n",
        "\n",
        "trainDataGen=ImageDataGenerator(\n",
        "    rescale=1./255,\n",
        "    validation_split=0.1\n",
        ")\n",
        "\n",
        "testDataGen=ImageDataGenerator(rescale=1./255)\n",
        "\n",
        "trainGen=trainDataGen.flow_from_directory(\n",
        "    trainPath,\n",
        "    target_size=(255,255),\n",
        "    color_mode='rgb',\n",
        "    class_mode='categorical',\n",
        "    batch_size=32,\n",
        "    subset='training'\n",
        ")\n",
        "\n",
        "valGen=trainDataGen.flow_from_directory(\n",
        "    trainPath,\n",
        "    target_size=(255,255),\n",
        "    color_mode='rgb',\n",
        "    class_mode='categorical',\n",
        "    batch_size=32,\n",
        "    subset='validation')\n",
        "\n",
        "testGen=testDataGen.flow_from_directory(\n",
        "    testPath,\n",
        "    target_size=(255,255),\n",
        "    color_mode='rgb',\n",
        "    class_mode='categorical',\n",
        "    batch_size=1)"
      ],
      "execution_count": null,
      "outputs": [
        {
          "output_type": "stream",
          "text": [
            "Found 4711 images belonging to 3 classes.\n",
            "Found 521 images belonging to 3 classes.\n",
            "Found 624 images belonging to 3 classes.\n"
          ],
          "name": "stdout"
        }
      ]
    },
    {
      "cell_type": "code",
      "metadata": {
        "id": "h7DGtzSRXi15",
        "colab": {
          "base_uri": "https://localhost:8080/"
        },
        "outputId": "b4095062-28b6-4fce-e07d-297adc9ee6b2"
      },
      "source": [
        "alexnet=Sequential()\n",
        "alexnet.add(Conv2D(96,kernel_size=(7,7),strides=(4,4),activation='relu',input_shape=(255,255,3))) \n",
        "\n",
        "alexnet.add(MaxPooling2D(pool_size=(3,3),strides=(2,2)))\n",
        "alexnet.add(ZeroPadding2D((2,2)))\n",
        "\n",
        "alexnet.add(Conv2D(255,kernel_size=(5,5),activation='relu',strides=(1,1)))\n",
        "alexnet.add(MaxPooling2D(pool_size=(3,3),strides=(2,2)))\n",
        "alexnet.add(ZeroPadding2D((1,1)))\n",
        "alexnet.add(Conv2D(364,kernel_size=(3,3),activation='relu',strides=(1,1)))\n",
        "alexnet.add(ZeroPadding2D((1,1)))\n",
        "\n",
        "\n",
        "alexnet.add(Conv2D(364,kernel_size=(3,3),activation='relu',strides=(1,1)))\n",
        "alexnet.add(ZeroPadding2D((1,1)))\n",
        "alexnet.add(Conv2D(255,kernel_size=(3,3),activation='relu',strides=(1,1)))\n",
        "alexnet.add(MaxPooling2D(pool_size=(3,3),strides=(2,2)))\n",
        "\n",
        "alexnet.add(Conv2D(255,kernel_size=(3,3),activation='relu',strides=(1,1)))\n",
        "alexnet.add(MaxPooling2D(pool_size=(3,3),strides=(2,2)))\n",
        "alexnet.add(Flatten())\n",
        "alexnet.add(Dense(2048,activation='relu'))\n",
        "alexnet.add(Dropout(0.5))\n",
        "alexnet.add(Dense(2048,activation='relu'))\n",
        "alexnet.add(Dropout(0.5))\n",
        "\n",
        "alexnet.add(Dense(3,activation='softmax'))\n",
        "alexnet.summary()\n",
        "\n",
        "alexnet.compile(loss=\"categorical_crossentropy\",optimizer=\"adam\", metrics=[\"accuracy\"])\n"
      ],
      "execution_count": null,
      "outputs": [
        {
          "output_type": "stream",
          "text": [
            "Model: \"sequential_1\"\n",
            "_________________________________________________________________\n",
            "Layer (type)                 Output Shape              Param #   \n",
            "=================================================================\n",
            "conv2d_6 (Conv2D)            (None, 63, 63, 96)        14208     \n",
            "_________________________________________________________________\n",
            "max_pooling2d_4 (MaxPooling2 (None, 31, 31, 96)        0         \n",
            "_________________________________________________________________\n",
            "zero_padding2d_4 (ZeroPaddin (None, 35, 35, 96)        0         \n",
            "_________________________________________________________________\n",
            "conv2d_7 (Conv2D)            (None, 31, 31, 255)       612255    \n",
            "_________________________________________________________________\n",
            "max_pooling2d_5 (MaxPooling2 (None, 15, 15, 255)       0         \n",
            "_________________________________________________________________\n",
            "zero_padding2d_5 (ZeroPaddin (None, 17, 17, 255)       0         \n",
            "_________________________________________________________________\n",
            "conv2d_8 (Conv2D)            (None, 15, 15, 364)       835744    \n",
            "_________________________________________________________________\n",
            "zero_padding2d_6 (ZeroPaddin (None, 17, 17, 364)       0         \n",
            "_________________________________________________________________\n",
            "conv2d_9 (Conv2D)            (None, 15, 15, 364)       1192828   \n",
            "_________________________________________________________________\n",
            "zero_padding2d_7 (ZeroPaddin (None, 17, 17, 364)       0         \n",
            "_________________________________________________________________\n",
            "conv2d_10 (Conv2D)           (None, 15, 15, 255)       835635    \n",
            "_________________________________________________________________\n",
            "max_pooling2d_6 (MaxPooling2 (None, 7, 7, 255)         0         \n",
            "_________________________________________________________________\n",
            "conv2d_11 (Conv2D)           (None, 5, 5, 255)         585480    \n",
            "_________________________________________________________________\n",
            "max_pooling2d_7 (MaxPooling2 (None, 2, 2, 255)         0         \n",
            "_________________________________________________________________\n",
            "flatten_1 (Flatten)          (None, 1020)              0         \n",
            "_________________________________________________________________\n",
            "dense_1 (Dense)              (None, 2048)              2091008   \n",
            "_________________________________________________________________\n",
            "dropout (Dropout)            (None, 2048)              0         \n",
            "_________________________________________________________________\n",
            "dense_2 (Dense)              (None, 2048)              4196352   \n",
            "_________________________________________________________________\n",
            "dropout_1 (Dropout)          (None, 2048)              0         \n",
            "_________________________________________________________________\n",
            "dense_3 (Dense)              (None, 3)                 6147      \n",
            "=================================================================\n",
            "Total params: 10,369,657\n",
            "Trainable params: 10,369,657\n",
            "Non-trainable params: 0\n",
            "_________________________________________________________________\n"
          ],
          "name": "stdout"
        }
      ]
    },
    {
      "cell_type": "code",
      "metadata": {
        "id": "QmXhhh72XlIW",
        "colab": {
          "base_uri": "https://localhost:8080/"
        },
        "outputId": "3e7283e3-3f4b-4b25-adb1-a5c37faedb7d"
      },
      "source": [
        "history=alexnet.fit(\n",
        "    trainGen,\n",
        "    steps_per_epoch=trainGen.samples//32,\n",
        "    validation_data=valGen,\n",
        "    epochs=10,\n",
        "    validation_steps=valGen.samples//32\n",
        ")"
      ],
      "execution_count": null,
      "outputs": [
        {
          "output_type": "stream",
          "text": [
            "Epoch 1/10\n",
            "147/147 [==============================] - 1471s 10s/step - loss: 1.0706 - accuracy: 0.4607 - val_loss: 1.0530 - val_accuracy: 0.4863\n",
            "Epoch 2/10\n",
            "147/147 [==============================] - 802s 5s/step - loss: 1.0337 - accuracy: 0.5001 - val_loss: 1.0531 - val_accuracy: 0.4824\n",
            "Epoch 3/10\n",
            "147/147 [==============================] - 801s 5s/step - loss: 1.0409 - accuracy: 0.4957 - val_loss: 0.9419 - val_accuracy: 0.5020\n",
            "Epoch 4/10\n",
            "147/147 [==============================] - 809s 5s/step - loss: 0.8258 - accuracy: 0.6392 - val_loss: 0.7004 - val_accuracy: 0.7402\n",
            "Epoch 5/10\n",
            "147/147 [==============================] - 806s 5s/step - loss: 0.6976 - accuracy: 0.6939 - val_loss: 0.6685 - val_accuracy: 0.7422\n",
            "Epoch 6/10\n",
            "147/147 [==============================] - 804s 5s/step - loss: 0.6486 - accuracy: 0.7203 - val_loss: 0.6644 - val_accuracy: 0.7910\n",
            "Epoch 7/10\n",
            "147/147 [==============================] - 799s 5s/step - loss: 0.5971 - accuracy: 0.7507 - val_loss: 0.6126 - val_accuracy: 0.7598\n",
            "Epoch 8/10\n",
            "147/147 [==============================] - 807s 5s/step - loss: 0.5533 - accuracy: 0.7537 - val_loss: 0.6230 - val_accuracy: 0.8086\n",
            "Epoch 9/10\n",
            "147/147 [==============================] - 802s 5s/step - loss: 0.5102 - accuracy: 0.7734 - val_loss: 1.4793 - val_accuracy: 0.8105\n",
            "Epoch 10/10\n",
            "147/147 [==============================] - 803s 5s/step - loss: 0.4795 - accuracy: 0.7894 - val_loss: 0.5423 - val_accuracy: 0.8379\n"
          ],
          "name": "stdout"
        }
      ]
    },
    {
      "cell_type": "code",
      "metadata": {
        "id": "z9PdFpj_5-mg",
        "colab": {
          "base_uri": "https://localhost:8080/",
          "height": 822
        },
        "outputId": "e2642349-2c44-4c89-cfa7-a61744a97715"
      },
      "source": [
        "#Plot the Loss Curves\n",
        "plt.figure(figsize=[8,6])\n",
        "plt.plot(history.history['loss'],'r',linewidth=3.0)\n",
        "plt.plot(history.history['val_loss'],'b',linewidth=3.0)\n",
        "plt.legend(['Training loss', 'Validation Loss'],fontsize=18)\n",
        "plt.xlabel('Epochs ',fontsize=16)\n",
        "plt.ylabel('Loss',fontsize=16)\n",
        "plt.title('Loss Curves',fontsize=16)\n",
        "\n",
        "#Plot the Accuracy Curves\n",
        "plt.figure(figsize=[8,6])\n",
        "plt.plot(history.history['accuracy'],'r',linewidth=3.0)\n",
        "plt.plot(history.history['val_accuracy'],'b',linewidth=3.0)\n",
        "plt.legend(['Training Accuracy', 'Validation Accuracy'],fontsize=18)\n",
        "plt.xlabel('Epochs ',fontsize=16)\n",
        "plt.ylabel('Accuracy',fontsize=16)\n",
        "plt.title('Accuracy Curves',fontsize=16)"
      ],
      "execution_count": null,
      "outputs": [
        {
          "output_type": "execute_result",
          "data": {
            "text/plain": [
              "Text(0.5, 1.0, 'Accuracy Curves')"
            ]
          },
          "metadata": {
            "tags": []
          },
          "execution_count": 8
        },
        {
          "output_type": "display_data",
          "data": {
            "image/png": "[encoded data removed]",
            "text/plain": [
              "<Figure size 576x432 with 1 Axes>"
            ]
          },
          "metadata": {
            "tags": [],
            "needs_background": "light"
          }
        },
        {
          "output_type": "display_data",
          "data": {
            "image/png": "[encoded data removed]",
            "text/plain": [
              "<Figure size 576x432 with 1 Axes>"
            ]
          },
          "metadata": {
            "tags": [],
            "needs_background": "light"
          }
        }
      ]
    },
    {
      "cell_type": "code",
      "metadata": {
        "id": "m6KHNKNhZEj6",
        "colab": {
          "base_uri": "https://localhost:8080/"
        },
        "outputId": "ef09aa47-3f18-4b12-8adb-98b9b364cbb5"
      },
      "source": [
        "from sklearn.metrics import classification_report, confusion_matrix\n",
        "validation_generator=valGen\n",
        "\n",
        "\n",
        "Y_pred = alexnet.predict_generator(validation_generator, trainGen.samples // 15+1)\n",
        "y_pred = np.argmax(Y_pred, axis=1)\n",
        "print('Confusion Matrix')\n",
        "print(confusion_matrix(validation_generator.classes, y_pred))\n",
        "print('Classification Report')\n",
        "target_names = ['Normal', 'Bacteria', 'Virus']\n",
        "print(classification_report(validation_generator.classes, y_pred, target_names=target_names))"
      ],
      "execution_count": null,
      "outputs": [
        {
          "output_type": "stream",
          "text": [
            "/usr/local/lib/python3.7/dist-packages/keras/engine/training.py:1976: UserWarning: `Model.predict_generator` is deprecated and will be removed in a future version. Please use `Model.predict`, which supports generators.\n",
            "  warnings.warn('`Model.predict_generator` is deprecated and '\n"
          ],
          "name": "stderr"
        },
        {
          "output_type": "stream",
          "text": [
            "WARNING:tensorflow:Your input ran out of data; interrupting training. Make sure that your dataset or generator can generate at least `steps_per_epoch * epochs` batches (in this case, 315 batches). You may need to use the repeat() function when building your dataset.\n",
            "Confusion Matrix\n",
            "[[ 43  68  23]\n",
            " [ 83 127  43]\n",
            " [ 26  78  30]]\n",
            "Classification Report\n",
            "              precision    recall  f1-score   support\n",
            "\n",
            "      Normal       0.28      0.32      0.30       134\n",
            "    Bacteria       0.47      0.50      0.48       253\n",
            "       Virus       0.31      0.22      0.26       134\n",
            "\n",
            "    accuracy                           0.38       521\n",
            "   macro avg       0.35      0.35      0.35       521\n",
            "weighted avg       0.38      0.38      0.38       521\n",
            "\n"
          ],
          "name": "stdout"
        }
      ]
    }
  ]
}